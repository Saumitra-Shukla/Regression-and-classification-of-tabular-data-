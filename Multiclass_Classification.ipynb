{
  "nbformat": 4,
  "nbformat_minor": 0,
  "metadata": {
    "colab": {
      "name": " Multiclass Classification.ipynb",
      "version": "0.3.2",
      "provenance": [],
      "include_colab_link": true
    },
    "kernelspec": {
      "name": "python3",
      "display_name": "Python 3"
    },
    "accelerator": "GPU"
  },
  "cells": [
    {
      "cell_type": "markdown",
      "metadata": {
        "id": "view-in-github",
        "colab_type": "text"
      },
      "source": [
        "<a href=\"https://colab.research.google.com/github/Saumitra-Shukla/Regression-and-classification-of-tabular-data-/blob/master/Multiclass_Classification.ipynb\" target=\"_parent\"><img src=\"https://colab.research.google.com/assets/colab-badge.svg\" alt=\"Open In Colab\"/></a>"
      ]
    },
    {
      "cell_type": "code",
      "metadata": {
        "id": "bg9lA3kWiQam",
        "colab_type": "code",
        "outputId": "70b34844-dfe6-422a-89c9-5bbb3cae7641",
        "colab": {
          "base_uri": "https://localhost:8080/",
          "height": 156
        }
      },
      "source": [
        "import pandas as pd\n",
        "df=pd.read_csv('https://data.heatonresearch.com/data/t81-558/jh-simple-dataset.csv',na_values=['NA','?'])\n",
        "print(df[0:5])"
      ],
      "execution_count": 45,
      "outputs": [
        {
          "output_type": "stream",
          "text": [
            "   id job area   income  ...  pop_dense  retail_dense     crime  product\n",
            "0   1  vv    c  50876.0  ...   0.885827      0.492126  0.071100        b\n",
            "1   2  kd    c  60369.0  ...   0.874016      0.342520  0.400809        c\n",
            "2   3  pe    c  55126.0  ...   0.944882      0.724409  0.207723        b\n",
            "3   4  11    c  51690.0  ...   0.889764      0.444882  0.361216        b\n",
            "4   5  kl    d  28347.0  ...   0.744094      0.661417  0.068033        a\n",
            "\n",
            "[5 rows x 14 columns]\n"
          ],
          "name": "stdout"
        }
      ]
    },
    {
      "cell_type": "code",
      "metadata": {
        "id": "pKkyGJCvj30_",
        "colab_type": "code",
        "colab": {}
      },
      "source": [
        "\n",
        "for i in df.columns:\n",
        "  print(df[0:5][i])"
      ],
      "execution_count": 0,
      "outputs": []
    },
    {
      "cell_type": "code",
      "metadata": {
        "id": "EwL9pngpkWsO",
        "colab_type": "code",
        "outputId": "aa78a8bb-5a8b-449a-ef89-8103dcce429a",
        "colab": {
          "base_uri": "https://localhost:8080/",
          "height": 173
        }
      },
      "source": [
        "dummies_j=pd.get_dummies(df['job'],prefix='job')\n",
        "dummies_a=pd.get_dummies(df['area'],prefix='area')\n",
        "df=pd.concat([df,dummies_j,dummies_a],axis=1)\n",
        "df.columns.drop('job').drop('area').drop('id')"
      ],
      "execution_count": 46,
      "outputs": [
        {
          "output_type": "execute_result",
          "data": {
            "text/plain": [
              "Index(['income', 'aspect', 'subscriptions', 'dist_healthy', 'save_rate',\n",
              "       'dist_unhealthy', 'age', 'pop_dense', 'retail_dense', 'crime',\n",
              "       'product', 'job_11', 'job_al', 'job_am', 'job_ax', 'job_bf', 'job_by',\n",
              "       'job_cv', 'job_de', 'job_dz', 'job_e2', 'job_f8', 'job_gj', 'job_gv',\n",
              "       'job_kd', 'job_ke', 'job_kl', 'job_kp', 'job_ks', 'job_kw', 'job_mm',\n",
              "       'job_nb', 'job_nn', 'job_ob', 'job_pe', 'job_po', 'job_pq', 'job_pz',\n",
              "       'job_qp', 'job_qw', 'job_rn', 'job_sa', 'job_vv', 'job_zz', 'area_a',\n",
              "       'area_b', 'area_c', 'area_d'],\n",
              "      dtype='object')"
            ]
          },
          "metadata": {
            "tags": []
          },
          "execution_count": 46
        }
      ]
    },
    {
      "cell_type": "code",
      "metadata": {
        "id": "SiIYulf7l9Hn",
        "colab_type": "code",
        "colab": {}
      },
      "source": [
        "median=df['income'].median()\n",
        "df['income']=df['income'].fillna(median)"
      ],
      "execution_count": 0,
      "outputs": []
    },
    {
      "cell_type": "code",
      "metadata": {
        "id": "GW7uEyRImgUJ",
        "colab_type": "code",
        "colab": {}
      },
      "source": [
        "from scipy.stats import zscore\n",
        "\n",
        "df['income']=zscore(df['income'])\n",
        "df['aspect']=zscore(df['aspect'])\n",
        "df['subscriptions']=zscore(df['subscriptions'])\n",
        "df['dist_healthy']=zscore(df['dist_healthy'])\n",
        "df['save_rate']=zscore(df['save_rate'])\n",
        "df['age']=zscore(df['age'])"
      ],
      "execution_count": 0,
      "outputs": []
    },
    {
      "cell_type": "code",
      "metadata": {
        "id": "KkZEuq_2yvSw",
        "colab_type": "code",
        "colab": {}
      },
      "source": [
        "x_columns=df.columns.drop('job').drop('area').drop('id').drop('product')\n",
        "x=df[x_columns].values\n",
        "\n",
        "dummies=pd.get_dummies(df['product'])\n",
        "prod=dummies.columns\n",
        "y=dummies.values"
      ],
      "execution_count": 0,
      "outputs": []
    },
    {
      "cell_type": "code",
      "metadata": {
        "id": "GeneiyrBN28g",
        "colab_type": "code",
        "colab": {}
      },
      "source": [
        "from sklearn.model_selection import train_test_split\n",
        "\n",
        "x_train,x_test,y_train,y_test=train_test_split(x,y,test_size=0.25,random_state=42)"
      ],
      "execution_count": 0,
      "outputs": []
    },
    {
      "cell_type": "code",
      "metadata": {
        "id": "AyaQcHqUzgUN",
        "colab_type": "code",
        "colab": {}
      },
      "source": [
        "!pip install tf-nightly-gpu-2.0-preview"
      ],
      "execution_count": 0,
      "outputs": []
    },
    {
      "cell_type": "code",
      "metadata": {
        "id": "WwIDnGDsz053",
        "colab_type": "code",
        "colab": {
          "base_uri": "https://localhost:8080/",
          "height": 1000
        },
        "outputId": "18c19629-6239-41f9-91bc-f6b94727cc3c"
      },
      "source": [
        "import tensorflow as tf\n",
        "from tensorflow.keras.models import Sequential\n",
        "from tensorflow.keras.layers import Dense\n",
        "from tensorflow.keras.optimizers import Adam\n",
        "from tensorflow.keras.callbacks import EarlyStopping,ModelCheckpoint\n",
        "\n",
        "\n",
        "model=Sequential()\n",
        "model.add(Dense(100,input_dim=x.shape[1],activation='relu',kernel_initializer='random_normal'))\n",
        "model.add(Dense(50,activation='relu',kernel_initializer='random_normal'))\n",
        "model.add(Dense(25,activation='relu',kernel_initializer='random_normal'))\n",
        "model.add(Dense(y.shape[1],activation='softmax',kernel_initializer='random_normal'))\n",
        "model.compile(loss='categorical_crossentropy',optimizer=Adam(),metrics=['accuracy'])\n",
        "\n",
        "monitor=EarlyStopping(monitor='val_loss',min_delta=1e-3,patience=10,verbose=1,restore_best_weights=True)\n",
        "checkpoint=ModelCheckpoint(filepath='best_weights.hdf5',monitor='val_loss', verbose=1, save_best_only=True)\n",
        "\n",
        "#model.fit(x_train,y_train,validation_data=(x_test,y_test),epochs=100,callbacks=[monitor,checkpoint],verbose=2)\n",
        "\n",
        "model.fit(x_train,y_train,validation_data=(x_test,y_test),callbacks=[monitor,checkpoint],verbose=2,epochs=1000)"
      ],
      "execution_count": 60,
      "outputs": [
        {
          "output_type": "stream",
          "text": [
            "Train on 1500 samples, validate on 500 samples\n",
            "Epoch 1/1000\n",
            "\n",
            "Epoch 00001: val_loss improved from inf to 1.13823, saving model to best_weights.hdf5\n",
            "1500/1500 - 0s - loss: 1.5321 - accuracy: 0.3680 - val_loss: 1.1382 - val_accuracy: 0.5020\n",
            "Epoch 2/1000\n",
            "\n",
            "Epoch 00002: val_loss improved from 1.13823 to 1.08487, saving model to best_weights.hdf5\n",
            "1500/1500 - 0s - loss: 1.1365 - accuracy: 0.4733 - val_loss: 1.0849 - val_accuracy: 0.5000\n",
            "Epoch 3/1000\n",
            "\n",
            "Epoch 00003: val_loss improved from 1.08487 to 1.02291, saving model to best_weights.hdf5\n",
            "1500/1500 - 0s - loss: 1.0726 - accuracy: 0.5000 - val_loss: 1.0229 - val_accuracy: 0.5180\n",
            "Epoch 4/1000\n",
            "\n",
            "Epoch 00004: val_loss improved from 1.02291 to 0.90584, saving model to best_weights.hdf5\n",
            "1500/1500 - 0s - loss: 0.9411 - accuracy: 0.6020 - val_loss: 0.9058 - val_accuracy: 0.6260\n",
            "Epoch 5/1000\n",
            "\n",
            "Epoch 00005: val_loss improved from 0.90584 to 0.82992, saving model to best_weights.hdf5\n",
            "1500/1500 - 0s - loss: 0.8312 - accuracy: 0.6713 - val_loss: 0.8299 - val_accuracy: 0.6560\n",
            "Epoch 6/1000\n",
            "\n",
            "Epoch 00006: val_loss improved from 0.82992 to 0.82274, saving model to best_weights.hdf5\n",
            "1500/1500 - 0s - loss: 0.7832 - accuracy: 0.6893 - val_loss: 0.8227 - val_accuracy: 0.6740\n",
            "Epoch 7/1000\n",
            "\n",
            "Epoch 00007: val_loss improved from 0.82274 to 0.80903, saving model to best_weights.hdf5\n",
            "1500/1500 - 0s - loss: 0.7781 - accuracy: 0.6880 - val_loss: 0.8090 - val_accuracy: 0.6780\n",
            "Epoch 8/1000\n",
            "\n",
            "Epoch 00008: val_loss did not improve from 0.80903\n",
            "1500/1500 - 0s - loss: 0.7468 - accuracy: 0.6920 - val_loss: 0.8549 - val_accuracy: 0.6360\n",
            "Epoch 9/1000\n",
            "\n",
            "Epoch 00009: val_loss improved from 0.80903 to 0.77525, saving model to best_weights.hdf5\n",
            "1500/1500 - 0s - loss: 0.7506 - accuracy: 0.6887 - val_loss: 0.7753 - val_accuracy: 0.6880\n",
            "Epoch 10/1000\n",
            "\n",
            "Epoch 00010: val_loss improved from 0.77525 to 0.76800, saving model to best_weights.hdf5\n",
            "1500/1500 - 0s - loss: 0.7260 - accuracy: 0.6940 - val_loss: 0.7680 - val_accuracy: 0.7000\n",
            "Epoch 11/1000\n",
            "\n",
            "Epoch 00011: val_loss improved from 0.76800 to 0.76200, saving model to best_weights.hdf5\n",
            "1500/1500 - 0s - loss: 0.7102 - accuracy: 0.6980 - val_loss: 0.7620 - val_accuracy: 0.6960\n",
            "Epoch 12/1000\n",
            "\n",
            "Epoch 00012: val_loss did not improve from 0.76200\n",
            "1500/1500 - 0s - loss: 0.7071 - accuracy: 0.6987 - val_loss: 0.7639 - val_accuracy: 0.7020\n",
            "Epoch 13/1000\n",
            "\n",
            "Epoch 00013: val_loss improved from 0.76200 to 0.75836, saving model to best_weights.hdf5\n",
            "1500/1500 - 0s - loss: 0.6918 - accuracy: 0.7087 - val_loss: 0.7584 - val_accuracy: 0.7020\n",
            "Epoch 14/1000\n",
            "\n",
            "Epoch 00014: val_loss did not improve from 0.75836\n",
            "1500/1500 - 0s - loss: 0.6899 - accuracy: 0.6973 - val_loss: 0.8014 - val_accuracy: 0.6500\n",
            "Epoch 15/1000\n",
            "\n",
            "Epoch 00015: val_loss improved from 0.75836 to 0.74587, saving model to best_weights.hdf5\n",
            "1500/1500 - 0s - loss: 0.6929 - accuracy: 0.6967 - val_loss: 0.7459 - val_accuracy: 0.6920\n",
            "Epoch 16/1000\n",
            "\n",
            "Epoch 00016: val_loss did not improve from 0.74587\n",
            "1500/1500 - 0s - loss: 0.6750 - accuracy: 0.7087 - val_loss: 0.7542 - val_accuracy: 0.7040\n",
            "Epoch 17/1000\n",
            "\n",
            "Epoch 00017: val_loss did not improve from 0.74587\n",
            "1500/1500 - 0s - loss: 0.6835 - accuracy: 0.6993 - val_loss: 0.7554 - val_accuracy: 0.6960\n",
            "Epoch 18/1000\n",
            "\n",
            "Epoch 00018: val_loss did not improve from 0.74587\n",
            "1500/1500 - 0s - loss: 0.6709 - accuracy: 0.7107 - val_loss: 0.7537 - val_accuracy: 0.6800\n",
            "Epoch 19/1000\n",
            "\n",
            "Epoch 00019: val_loss improved from 0.74587 to 0.74014, saving model to best_weights.hdf5\n",
            "1500/1500 - 0s - loss: 0.6613 - accuracy: 0.7140 - val_loss: 0.7401 - val_accuracy: 0.7060\n",
            "Epoch 20/1000\n",
            "\n",
            "Epoch 00020: val_loss did not improve from 0.74014\n",
            "1500/1500 - 0s - loss: 0.6598 - accuracy: 0.7160 - val_loss: 0.7464 - val_accuracy: 0.6960\n",
            "Epoch 21/1000\n",
            "\n",
            "Epoch 00021: val_loss did not improve from 0.74014\n",
            "1500/1500 - 0s - loss: 0.6686 - accuracy: 0.7120 - val_loss: 0.7448 - val_accuracy: 0.6960\n",
            "Epoch 22/1000\n",
            "\n",
            "Epoch 00022: val_loss improved from 0.74014 to 0.73823, saving model to best_weights.hdf5\n",
            "1500/1500 - 0s - loss: 0.6635 - accuracy: 0.7153 - val_loss: 0.7382 - val_accuracy: 0.6940\n",
            "Epoch 23/1000\n",
            "\n",
            "Epoch 00023: val_loss did not improve from 0.73823\n",
            "1500/1500 - 0s - loss: 0.6509 - accuracy: 0.7180 - val_loss: 0.7461 - val_accuracy: 0.6840\n",
            "Epoch 24/1000\n",
            "\n",
            "Epoch 00024: val_loss did not improve from 0.73823\n",
            "1500/1500 - 0s - loss: 0.6563 - accuracy: 0.7187 - val_loss: 0.7405 - val_accuracy: 0.6960\n",
            "Epoch 25/1000\n",
            "\n",
            "Epoch 00025: val_loss did not improve from 0.73823\n",
            "1500/1500 - 0s - loss: 0.6601 - accuracy: 0.7073 - val_loss: 0.7575 - val_accuracy: 0.6820\n",
            "Epoch 26/1000\n",
            "\n",
            "Epoch 00026: val_loss did not improve from 0.73823\n",
            "1500/1500 - 0s - loss: 0.6392 - accuracy: 0.7267 - val_loss: 0.7472 - val_accuracy: 0.6940\n",
            "Epoch 27/1000\n",
            "\n",
            "Epoch 00027: val_loss did not improve from 0.73823\n",
            "1500/1500 - 0s - loss: 0.6485 - accuracy: 0.7253 - val_loss: 0.7469 - val_accuracy: 0.6840\n",
            "Epoch 28/1000\n",
            "\n",
            "Epoch 00028: val_loss did not improve from 0.73823\n",
            "1500/1500 - 0s - loss: 0.6331 - accuracy: 0.7273 - val_loss: 0.7548 - val_accuracy: 0.6860\n",
            "Epoch 29/1000\n",
            "\n",
            "Epoch 00029: val_loss did not improve from 0.73823\n",
            "1500/1500 - 0s - loss: 0.6448 - accuracy: 0.7127 - val_loss: 0.7750 - val_accuracy: 0.6820\n",
            "Epoch 30/1000\n",
            "\n",
            "Epoch 00030: val_loss improved from 0.73823 to 0.73732, saving model to best_weights.hdf5\n",
            "1500/1500 - 0s - loss: 0.6365 - accuracy: 0.7313 - val_loss: 0.7373 - val_accuracy: 0.6920\n",
            "Epoch 31/1000\n",
            "\n",
            "Epoch 00031: val_loss did not improve from 0.73732\n",
            "1500/1500 - 0s - loss: 0.6305 - accuracy: 0.7380 - val_loss: 0.7704 - val_accuracy: 0.6780\n",
            "Epoch 32/1000\n",
            "Restoring model weights from the end of the best epoch.\n",
            "\n",
            "Epoch 00032: val_loss did not improve from 0.73732\n",
            "1500/1500 - 0s - loss: 0.6218 - accuracy: 0.7340 - val_loss: 0.7441 - val_accuracy: 0.7020\n",
            "Epoch 00032: early stopping\n"
          ],
          "name": "stdout"
        },
        {
          "output_type": "execute_result",
          "data": {
            "text/plain": [
              "<tensorflow.python.keras.callbacks.History at 0x7fec60090f98>"
            ]
          },
          "metadata": {
            "tags": []
          },
          "execution_count": 60
        }
      ]
    },
    {
      "cell_type": "code",
      "metadata": {
        "id": "L7mTkMui07w4",
        "colab_type": "code",
        "outputId": "f79df49d-94df-4cd5-cfa2-e609ab9b6e59",
        "colab": {
          "base_uri": "https://localhost:8080/",
          "height": 34
        }
      },
      "source": [
        "print(x.shape,y.shape)"
      ],
      "execution_count": 51,
      "outputs": [
        {
          "output_type": "stream",
          "text": [
            "(2000, 47) (2000, 7)\n"
          ],
          "name": "stdout"
        }
      ]
    },
    {
      "cell_type": "code",
      "metadata": {
        "id": "RSvqoTGmTAz0",
        "colab_type": "code",
        "colab": {
          "base_uri": "https://localhost:8080/",
          "height": 34
        },
        "outputId": "6f5d6686-4591-4e5f-9902-f32be66506ef"
      },
      "source": [
        "!ls\n"
      ],
      "execution_count": 61,
      "outputs": [
        {
          "output_type": "stream",
          "text": [
            "best_weights.hdf5  sample_data\n"
          ],
          "name": "stdout"
        }
      ]
    },
    {
      "cell_type": "code",
      "metadata": {
        "id": "D55Sm1s1Tkrb",
        "colab_type": "code",
        "colab": {
          "base_uri": "https://localhost:8080/",
          "height": 124
        },
        "outputId": "ece22692-0ba7-4d97-de01-ee1548e462f8"
      },
      "source": [
        "from google.colab import drive\n",
        "drive.mount('/content/drive')\n"
      ],
      "execution_count": 62,
      "outputs": [
        {
          "output_type": "stream",
          "text": [
            "Go to this URL in a browser: https://accounts.google.com/o/oauth2/auth?client_id=947318989803-6bn6qk8qdgf4n4g3pfee6491hc0brc4i.apps.googleusercontent.com&redirect_uri=urn%3Aietf%3Awg%3Aoauth%3A2.0%3Aoob&scope=email%20https%3A%2F%2Fwww.googleapis.com%2Fauth%2Fdocs.test%20https%3A%2F%2Fwww.googleapis.com%2Fauth%2Fdrive%20https%3A%2F%2Fwww.googleapis.com%2Fauth%2Fdrive.photos.readonly%20https%3A%2F%2Fwww.googleapis.com%2Fauth%2Fpeopleapi.readonly&response_type=code\n",
            "\n",
            "Enter your authorization code:\n",
            "··········\n",
            "Mounted at /content/drive\n"
          ],
          "name": "stdout"
        }
      ]
    },
    {
      "cell_type": "code",
      "metadata": {
        "id": "0A87r84Wnw_U",
        "colab_type": "code",
        "colab": {}
      },
      "source": [
        "!cp best_weights.hdf5 drive/'My Drive'/machine-learning/weights/multiclass_weights.hdf5"
      ],
      "execution_count": 0,
      "outputs": []
    },
    {
      "cell_type": "code",
      "metadata": {
        "id": "86K93i1ioLVu",
        "colab_type": "code",
        "colab": {}
      },
      "source": [
        ""
      ],
      "execution_count": 0,
      "outputs": []
    }
  ]
}